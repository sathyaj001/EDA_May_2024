{
 "cells": [
  {
   "cell_type": "markdown",
   "id": "3f246071-f085-4514-8c64-9d60e2c92a6b",
   "metadata": {},
   "source": [
    "**Dictionary**"
   ]
  },
  {
   "cell_type": "markdown",
   "id": "22566330-bc8b-4446-905f-179f67d56446",
   "metadata": {},
   "source": [
    "- we already seen many data types like\n",
    "- Strings, List, Tuple, Set,\n",
    "- One more things is dictionary\n",
    "- String=''\n",
    "- list=[]\n",
    "- tuple=()\n",
    "- set={}\n",
    "- dictionary={key:value}"
   ]
  },
  {
   "cell_type": "markdown",
   "id": "2277e340-cc14-49f3-b4ce-253137a08895",
   "metadata": {},
   "source": [
    "**ZIP**\n"
   ]
  },
  {
   "cell_type": "code",
   "execution_count": 6,
   "id": "9b409409-c9fb-4788-95f3-474d98818ba4",
   "metadata": {},
   "outputs": [
    {
     "name": "stdout",
     "output_type": "stream",
     "text": [
      "sathya 35\n",
      "Kalyani 32\n",
      "Ishaan 10\n",
      "Test 12\n"
     ]
    }
   ],
   "source": [
    "names=['sathya','Kalyani','Ishaan','Test']\n",
    "age=[35,32,10,12]\n",
    "for i,j in zip(names,age):\n",
    "    print(i,j)"
   ]
  },
  {
   "cell_type": "markdown",
   "id": "9bc80731-dd08-45b4-bb71-210c68b5fe1e",
   "metadata": {},
   "source": [
    "- Main usage of zip is combile both list "
   ]
  },
  {
   "cell_type": "code",
   "execution_count": 7,
   "id": "0b7e32b5-9582-4a2b-8270-ef592241919b",
   "metadata": {},
   "outputs": [
    {
     "data": {
      "text/plain": [
       "[('sathya', 35), ('Kalyani', 32), ('Ishaan', 10), ('Test', 12)]"
      ]
     },
     "execution_count": 7,
     "metadata": {},
     "output_type": "execute_result"
    }
   ],
   "source": [
    "list(zip(names,age))"
   ]
  },
  {
   "cell_type": "code",
   "execution_count": 8,
   "id": "0a9cbeb2-a608-4946-8e97-c5d6dad37071",
   "metadata": {},
   "outputs": [
    {
     "data": {
      "text/plain": [
       "{('Ishaan', 10), ('Kalyani', 32), ('Test', 12), ('sathya', 35)}"
      ]
     },
     "execution_count": 8,
     "metadata": {},
     "output_type": "execute_result"
    }
   ],
   "source": [
    "set(zip(names,age))"
   ]
  },
  {
   "cell_type": "code",
   "execution_count": 9,
   "id": "1f574b9a-a1a1-4398-bde6-88e2b0909c4a",
   "metadata": {},
   "outputs": [
    {
     "data": {
      "text/plain": [
       "(('sathya', 35), ('Kalyani', 32), ('Ishaan', 10), ('Test', 12))"
      ]
     },
     "execution_count": 9,
     "metadata": {},
     "output_type": "execute_result"
    }
   ],
   "source": [
    "tuple(zip(names,age))"
   ]
  },
  {
   "cell_type": "code",
   "execution_count": 11,
   "id": "c3995a58-2837-4990-9107-5f6edecde139",
   "metadata": {},
   "outputs": [
    {
     "data": {
      "text/plain": [
       "{'sathya': 35, 'Kalyani': 32, 'Ishaan': 10, 'Test': 12}"
      ]
     },
     "execution_count": 11,
     "metadata": {},
     "output_type": "execute_result"
    }
   ],
   "source": [
    "dict(zip(names,age))"
   ]
  },
  {
   "cell_type": "code",
   "execution_count": 20,
   "id": "870ca3cc-6594-4776-ae56-e13e318ed04a",
   "metadata": {},
   "outputs": [
    {
     "data": {
      "text/plain": [
       "{'sathya': 35,\n",
       " 'Kalyani': 32,\n",
       " 'Ishaan': 10,\n",
       " 'Test': 12,\n",
       " 'obj': [('sathya', 35), ('Kalyani', 32), ('Ishaan', 10), ('Test', 12)],\n",
       " 'obj2': {('Ishaan', 10), ('Kalyani', 32), ('Test', 12), ('sathya', 35)},\n",
       " 'abc': {'sathya': 35, 'Kalyani': 32, 'Ishaan': 10, 'Test': 12},\n",
       " 20: 30,\n",
       " True: 'A'}"
      ]
     },
     "execution_count": 20,
     "metadata": {},
     "output_type": "execute_result"
    }
   ],
   "source": [
    "#{key1:value1,key2:value2,...etc}\n",
    "dict1={'sathya': 35, 'Kalyani': 32, 'Ishaan': 10, 'Test': 12,'obj':[('sathya', 35), ('Kalyani', 32), ('Ishaan', 10), ('Test', 12)],\n",
    "      'obj2':{('Ishaan', 10), ('Kalyani', 32), ('Test', 12), ('sathya', 35)},'abc':dict(zip(names,age)),20:30,True:'A'}\n",
    "dict1"
   ]
  },
  {
   "cell_type": "markdown",
   "id": "2cd05414-eed8-47dc-83ac-ec7521da3b36",
   "metadata": {},
   "source": [
    "**create all type of dictionaries**\n"
   ]
  },
  {
   "cell_type": "code",
   "execution_count": 29,
   "id": "71cb7379-e98e-486d-b75c-9da6d392e229",
   "metadata": {},
   "outputs": [
    {
     "data": {
      "text/plain": [
       "{1: 123, 'A': 2}"
      ]
     },
     "execution_count": 29,
     "metadata": {},
     "output_type": "execute_result"
    }
   ],
   "source": [
    "dict2={1:10,'A':2,True:123}\n",
    "dict2"
   ]
  },
  {
   "cell_type": "code",
   "execution_count": 30,
   "id": "4647b8e8-f31b-49cd-830b-dea4e35de31c",
   "metadata": {},
   "outputs": [
    {
     "ename": "TypeError",
     "evalue": "unhashable type: 'list'",
     "output_type": "error",
     "traceback": [
      "\u001b[1;31m---------------------------------------------------------------------------\u001b[0m",
      "\u001b[1;31mTypeError\u001b[0m                                 Traceback (most recent call last)",
      "Cell \u001b[1;32mIn[30], line 1\u001b[0m\n\u001b[1;32m----> 1\u001b[0m d5\u001b[38;5;241m=\u001b[39m{[\u001b[38;5;124m'\u001b[39m\u001b[38;5;124mapple\u001b[39m\u001b[38;5;124m'\u001b[39m,\u001b[38;5;124m'\u001b[39m\u001b[38;5;124mcherry\u001b[39m\u001b[38;5;124m'\u001b[39m]:\u001b[38;5;124m'\u001b[39m\u001b[38;5;124mFruites\u001b[39m\u001b[38;5;124m'\u001b[39m}\n\u001b[0;32m      2\u001b[0m d5\n",
      "\u001b[1;31mTypeError\u001b[0m: unhashable type: 'list'"
     ]
    }
   ],
   "source": [
    "d5={['apple','cherry']:'Fruites'}\n",
    "d5"
   ]
  },
  {
   "cell_type": "code",
   "execution_count": 31,
   "id": "8f05cef8-25ab-47a8-85e7-c8cc55f8e4b7",
   "metadata": {},
   "outputs": [
    {
     "data": {
      "text/plain": [
       "{('apple', 'cherry'): 'Fruites'}"
      ]
     },
     "execution_count": 31,
     "metadata": {},
     "output_type": "execute_result"
    }
   ],
   "source": [
    "d5={('apple','cherry'):'Fruites'}\n",
    "d5"
   ]
  },
  {
   "cell_type": "code",
   "execution_count": 32,
   "id": "89884503-72a2-4252-8d2c-37798737b28e",
   "metadata": {},
   "outputs": [
    {
     "ename": "TypeError",
     "evalue": "unhashable type: 'set'",
     "output_type": "error",
     "traceback": [
      "\u001b[1;31m---------------------------------------------------------------------------\u001b[0m",
      "\u001b[1;31mTypeError\u001b[0m                                 Traceback (most recent call last)",
      "Cell \u001b[1;32mIn[32], line 1\u001b[0m\n\u001b[1;32m----> 1\u001b[0m d5\u001b[38;5;241m=\u001b[39m{{\u001b[38;5;124m'\u001b[39m\u001b[38;5;124mapple\u001b[39m\u001b[38;5;124m'\u001b[39m,\u001b[38;5;124m'\u001b[39m\u001b[38;5;124mcherry\u001b[39m\u001b[38;5;124m'\u001b[39m}:\u001b[38;5;124m'\u001b[39m\u001b[38;5;124mFruites\u001b[39m\u001b[38;5;124m'\u001b[39m}\n\u001b[0;32m      2\u001b[0m d5\n",
      "\u001b[1;31mTypeError\u001b[0m: unhashable type: 'set'"
     ]
    }
   ],
   "source": [
    "d5={{'apple','cherry'}:'Fruites'}\n",
    "d5"
   ]
  },
  {
   "cell_type": "code",
   "execution_count": 38,
   "id": "04c69765-8bda-4a47-9365-c7e3d282153c",
   "metadata": {},
   "outputs": [
    {
     "data": {
      "text/plain": [
       "'sathya'"
      ]
     },
     "execution_count": 38,
     "metadata": {},
     "output_type": "execute_result"
    }
   ],
   "source": [
    "dd1={'sathya': 35, 'Kalyani': 44, 'Ishaan': 10, 'Test': 12}\n",
    "max(dd1) #max value applied to Keys.\n",
    "#operations apply on keys\n",
    "#keys are important\n"
   ]
  },
  {
   "cell_type": "code",
   "execution_count": 40,
   "id": "764e0ec9-b381-4fb9-8354-b58bd9e0d65e",
   "metadata": {},
   "outputs": [
    {
     "data": {
      "text/plain": [
       "30"
      ]
     },
     "execution_count": 40,
     "metadata": {},
     "output_type": "execute_result"
    }
   ],
   "source": [
    "s1={25:'Test',30:'abc',12:'xyz'}\n",
    "max(s1)"
   ]
  },
  {
   "cell_type": "code",
   "execution_count": 43,
   "id": "cdee2f80-7c20-4930-a046-d83613bb00c4",
   "metadata": {},
   "outputs": [
    {
     "data": {
      "text/plain": [
       "{25: 'Test', '30': 'abc', 12: 'xyz'}"
      ]
     },
     "execution_count": 43,
     "metadata": {},
     "output_type": "execute_result"
    }
   ],
   "source": [
    "s1={25:'Test','30':'abc',12:'xyz'}\n",
    "s1"
   ]
  },
  {
   "cell_type": "markdown",
   "id": "1fb7e0b1-a619-49d0-b3fb-7e91680b1d91",
   "metadata": {},
   "source": [
    "s1={25:'Test',25:'abc',25:'xyz'}\n",
    "s1"
   ]
  },
  {
   "cell_type": "code",
   "execution_count": 45,
   "id": "3629e889-285e-453b-9767-410b5256dda8",
   "metadata": {},
   "outputs": [
    {
     "name": "stdout",
     "output_type": "stream",
     "text": [
      "A\n"
     ]
    }
   ],
   "source": [
    "#ASCCI Values\n",
    "print('A')"
   ]
  },
  {
   "cell_type": "code",
   "execution_count": 47,
   "id": "a0898a86-47cf-40cd-b3ae-a6cc4d1d484a",
   "metadata": {},
   "outputs": [
    {
     "ename": "TypeError",
     "evalue": "ord() expected a character, but string of length 6 found",
     "output_type": "error",
     "traceback": [
      "\u001b[1;31m---------------------------------------------------------------------------\u001b[0m",
      "\u001b[1;31mTypeError\u001b[0m                                 Traceback (most recent call last)",
      "Cell \u001b[1;32mIn[47], line 1\u001b[0m\n\u001b[1;32m----> 1\u001b[0m \u001b[38;5;28mord\u001b[39m(\u001b[38;5;124m'\u001b[39m\u001b[38;5;124mSathya\u001b[39m\u001b[38;5;124m'\u001b[39m)\n",
      "\u001b[1;31mTypeError\u001b[0m: ord() expected a character, but string of length 6 found"
     ]
    }
   ],
   "source": [
    "ord('A')"
   ]
  },
  {
   "cell_type": "code",
   "execution_count": 49,
   "id": "1d80e195-d6ff-4e04-bf98-6fd51d21162e",
   "metadata": {},
   "outputs": [
    {
     "data": {
      "text/plain": [
       "{'sathya': 35, 'Kalyani': 44, 'Ishaan': 10, 'Test': 12}"
      ]
     },
     "execution_count": 49,
     "metadata": {},
     "output_type": "execute_result"
    }
   ],
   "source": [
    "dd1={'sathya': 35, 'Kalyani': 44, 'Ishaan': 10, 'Test': 12}\n",
    "dd1"
   ]
  },
  {
   "cell_type": "code",
   "execution_count": 56,
   "id": "024e213d-d5c3-4b6b-a961-bccdf76c7c2a",
   "metadata": {},
   "outputs": [
    {
     "name": "stdout",
     "output_type": "stream",
     "text": [
      "s 115 115 a 97 212 t 116 328 h 104 432 y 121 553 a 97 650 sathya 650\n",
      "K 75 75 a 97 172 l 108 280 y 121 401 a 97 498 n 110 608 i 105 713 Kalyani 713\n",
      "I 73 73 s 115 188 h 104 292 a 97 389 a 97 486 n 110 596 Ishaan 596\n",
      "T 84 84 e 101 185 s 115 300 t 116 416 Test 416\n"
     ]
    }
   ],
   "source": [
    "sum=0\n",
    "for i in dd1:\n",
    "    for x in i:\n",
    "        sum=sum+ord(x)\n",
    "        print(x,ord(x),sum,end=\" \")\n",
    "    print(i,sum)\n",
    "    sum=0"
   ]
  },
  {
   "cell_type": "code",
   "execution_count": 65,
   "id": "209f82d4-1bf6-47ba-9690-00f8a9125f83",
   "metadata": {},
   "outputs": [
    {
     "name": "stdout",
     "output_type": "stream",
     "text": [
      "sathya\n",
      "Ishaan\n",
      "['Test', 'Ishaan', 'Kalyani', 'sathya']\n",
      "['Ishaan', 'Kalyani', 'Test', 'sathya']\n",
      "4\n"
     ]
    }
   ],
   "source": [
    "dd1={'sathya': 35, 'Kalyani': 44, 'Ishaan': 10, 'Test': 12}\n",
    "print(max(dd1))\n",
    "print(min(dd1))\n",
    "print(list(reversed(dd1)))\n",
    "print(list(sorted(dd1)))\n",
    "print(len(dd1))"
   ]
  },
  {
   "cell_type": "code",
   "execution_count": 3,
   "id": "d590b50b-c6fe-455a-9b16-534862f8091b",
   "metadata": {},
   "outputs": [
    {
     "name": "stdout",
     "output_type": "stream",
     "text": [
      "35\n",
      "44\n",
      "10\n",
      "12\n"
     ]
    }
   ],
   "source": [
    "dd1={'sathya': 35, 'Kalyani': 44, 'Ishaan': 10, 'Test': 12}\n",
    "for i in dd1:\n",
    "    print(dd1[i])"
   ]
  },
  {
   "cell_type": "code",
   "execution_count": 4,
   "id": "862e6d71-179e-40fa-ac84-19572256528d",
   "metadata": {},
   "outputs": [
    {
     "data": {
      "text/plain": [
       "12"
      ]
     },
     "execution_count": 4,
     "metadata": {},
     "output_type": "execute_result"
    }
   ],
   "source": [
    "#Dictionary is a key:value pair\n",
    "#we can't use index number directly\n",
    "#whenever you want to call a value, we will use keu\n",
    "dd1['Test']"
   ]
  },
  {
   "cell_type": "code",
   "execution_count": 6,
   "id": "a80d0c6e-6332-4083-bc9d-3bbb75517cec",
   "metadata": {},
   "outputs": [
    {
     "name": "stdout",
     "output_type": "stream",
     "text": [
      "age of sathya is 35\n",
      "age of Kalyani is 44\n",
      "age of Ishaan is 10\n",
      "age of Advaitha is 12\n"
     ]
    }
   ],
   "source": [
    "dd1={'sathya': 35, 'Kalyani': 44, 'Ishaan': 10, 'Advaitha': 12}\n",
    "for i in dd1:\n",
    "    print(f\"age of {i} is {dd1[i]}\")"
   ]
  },
  {
   "cell_type": "code",
   "execution_count": 9,
   "id": "39d6efc5-16a7-45d5-83c3-cbe795a9121e",
   "metadata": {},
   "outputs": [
    {
     "name": "stdout",
     "output_type": "stream",
     "text": [
      "sam has age 10\n",
      "chinnu has age 20\n",
      "lucky has age 22\n"
     ]
    }
   ],
   "source": [
    "names=['sam','chinnu','lucky']\n",
    "ages=[10,20,22]\n",
    "for i,j in zip(names,ages):\n",
    "    print(f\"{i} has age {j}\")"
   ]
  },
  {
   "cell_type": "code",
   "execution_count": 13,
   "id": "a5699c13-c688-4a97-bdf5-99ea3f40d1f6",
   "metadata": {},
   "outputs": [
    {
     "name": "stdout",
     "output_type": "stream",
     "text": [
      "['sathya', 'Kalyani', 'Ishaan', 'Advaitha'] [35, 44, 10, 12]\n"
     ]
    }
   ],
   "source": [
    "dd1={'sathya': 35, 'Kalyani': 44, 'Ishaan': 10, 'Advaitha': 12}\n",
    "names=[]\n",
    "ages1=[]\n",
    "for i in dd1:\n",
    "    names.append(i);\n",
    "    ages1.append(dd1[i])\n",
    "print(names,ages1)"
   ]
  },
  {
   "cell_type": "code",
   "execution_count": 16,
   "id": "9e5ef521-3b87-498b-a0d1-015ca2fcc6bf",
   "metadata": {},
   "outputs": [
    {
     "data": {
      "text/plain": [
       "(['sathya', 'Kalyani', 'Ishaan', 'Advaitha'], [35, 44, 10, 12])"
      ]
     },
     "execution_count": 16,
     "metadata": {},
     "output_type": "execute_result"
    }
   ],
   "source": [
    "keys=[i for i in dd1]\n",
    "values=[dd1[i] for i in dd1]\n",
    "keys,values"
   ]
  },
  {
   "cell_type": "markdown",
   "id": "516ed2dd-4de2-436b-8c8e-6155e75342df",
   "metadata": {},
   "source": [
    "**Dictionary to List**\n"
   ]
  },
  {
   "cell_type": "code",
   "execution_count": 18,
   "id": "e3e5888d-d8ef-4a72-81f9-15266943d39e",
   "metadata": {},
   "outputs": [
    {
     "data": {
      "text/plain": [
       "(['sathya', 'Kalyani', 'Ishaan', 'Advaitha'], [35, 44, 10, 12])"
      ]
     },
     "execution_count": 18,
     "metadata": {},
     "output_type": "execute_result"
    }
   ],
   "source": [
    "d2={'sathya': 35, 'Kalyani': 44, 'Ishaan': 10, 'Advaitha': 12}\n",
    "keys=[i for i in d2]\n",
    "values=[dd1[i] for i in d2]\n",
    "keys,values"
   ]
  },
  {
   "cell_type": "code",
   "execution_count": 20,
   "id": "f5775753-9232-4932-b651-659b2c70df59",
   "metadata": {},
   "outputs": [
    {
     "data": {
      "text/plain": [
       "(['apple'], 'Aplpha', {'Apples': 20})"
      ]
     },
     "execution_count": 20,
     "metadata": {},
     "output_type": "execute_result"
    }
   ],
   "source": [
    "#** create empty string , list, disctionary ***\n",
    "l1=[]\n",
    "l1.append('apple')\n",
    "s=''\n",
    "s=s+'Aplpha'\n",
    "d={}\n",
    "d[\"Apples\"]=20\n",
    "l1,s,d"
   ]
  },
  {
   "cell_type": "code",
   "execution_count": 24,
   "id": "55f746bf-b9b6-4f78-8411-0b3ad815f87d",
   "metadata": {},
   "outputs": [
    {
     "data": {
      "text/plain": [
       "['hello', 'hai', 'hai', 'how', 'how', 'are', 'you']"
      ]
     },
     "execution_count": 24,
     "metadata": {},
     "output_type": "execute_result"
    }
   ],
   "source": [
    "s='hello hai hai how how are you'\n",
    "ls=s.split()\n",
    "ls"
   ]
  },
  {
   "cell_type": "code",
   "execution_count": 25,
   "id": "6f4d4751-eb42-4bba-9b26-89ee48827cc8",
   "metadata": {},
   "outputs": [
    {
     "data": {
      "text/plain": [
       "2"
      ]
     },
     "execution_count": 25,
     "metadata": {},
     "output_type": "execute_result"
    }
   ],
   "source": [
    "ls.count('how')"
   ]
  },
  {
   "cell_type": "code",
   "execution_count": 28,
   "id": "d0c38e6e-9138-4bbd-a844-54d1e34cb7c3",
   "metadata": {},
   "outputs": [
    {
     "data": {
      "text/plain": [
       "{'hello': 1, 'hai': 2, 'how': 2, 'are': 1, 'you': 2}"
      ]
     },
     "execution_count": 28,
     "metadata": {},
     "output_type": "execute_result"
    }
   ],
   "source": [
    "s='hello hai hai how how are you you'\n",
    "d1={}\n",
    "for i in s.split():\n",
    "    d1[i]=ls.count(i)\n",
    "d1"
   ]
  },
  {
   "cell_type": "code",
   "execution_count": 104,
   "id": "84cb8b53-3e60-49b5-8dff-2163372ce0d5",
   "metadata": {},
   "outputs": [
    {
     "data": {
      "text/plain": [
       "{'Data': 68,\n",
       " 'science': 115,\n",
       " 'also': 97,\n",
       " 'integrates': 105,\n",
       " 'domain': 100,\n",
       " 'knowledge': 107,\n",
       " 'from': 102,\n",
       " 'the': 116,\n",
       " 'underlying': 117,\n",
       " 'application': 97,\n",
       " '(e.g.,': 40,\n",
       " 'natural': 110,\n",
       " 'sciences,': 115,\n",
       " 'information': 105,\n",
       " 'technology,': 116,\n",
       " 'and': 97,\n",
       " 'medicine).[3]': 109,\n",
       " 'is': 105,\n",
       " 'multifaceted': 109,\n",
       " 'can': 99,\n",
       " 'be': 98,\n",
       " 'described': 100,\n",
       " 'as': 97,\n",
       " 'science,': 115,\n",
       " 'research': 114,\n",
       " 'paradigm,': 112,\n",
       " 'method,': 109,\n",
       " 'discipline,': 100,\n",
       " 'workflow,': 119,\n",
       " 'profession.[4]': 112}"
      ]
     },
     "execution_count": 104,
     "metadata": {},
     "output_type": "execute_result"
    }
   ],
   "source": [
    "s=\"\"\"Data science also integrates domain knowledge from the underlying application domain (e.g., natural sciences, information technology, \n",
    "    and medicine).[3] Data science is multifaceted and can be described as a science, a research paradigm, a research method, \n",
    "    a discipline, a workflow, and a profession.[4]\"\"\"\n",
    "ls=list(filter(lambda i: i not in ('a','an','is''the'),s.split()))\n",
    "lk=list(map(lambda i: ord(i[0]),ls))\n",
    "dict(zip(ls,lk))"
   ]
  },
  {
   "cell_type": "code",
   "execution_count": 62,
   "id": "cce7564e-8457-4d71-b5d6-0fe68adc983a",
   "metadata": {},
   "outputs": [
    {
     "data": {
      "text/plain": [
       "{'Data': 68,\n",
       " 'science': 115,\n",
       " 'also': 97,\n",
       " 'integrates': 105,\n",
       " 'domain': 100,\n",
       " 'knowledge': 107,\n",
       " 'from': 102,\n",
       " 'the': 116,\n",
       " 'underlying': 117,\n",
       " 'application': 97,\n",
       " '(e.g.,': 40,\n",
       " 'natural': 110,\n",
       " 'sciences,': 115,\n",
       " 'information': 105,\n",
       " 'technology,': 116,\n",
       " 'and': 97,\n",
       " 'medicine).[3]': 109,\n",
       " 'is': 105,\n",
       " 'multifaceted': 109,\n",
       " 'can': 99,\n",
       " 'be': 98,\n",
       " 'described': 100,\n",
       " 'as': 97,\n",
       " 'science,': 115,\n",
       " 'research': 114,\n",
       " 'paradigm,': 112,\n",
       " 'method,': 109,\n",
       " 'discipline,': 100,\n",
       " 'workflow,': 119,\n",
       " 'profession.[4]': 112}"
      ]
     },
     "execution_count": 62,
     "metadata": {},
     "output_type": "execute_result"
    }
   ],
   "source": [
    "s=\"\"\"Data science also integrates domain knowledge from the underlying application domain (e.g., natural sciences, information technology, \n",
    "    and medicine).[3] Data science is multifaceted and can be described as a science, a research paradigm, a research method, \n",
    "    a discipline, a workflow, and a profession.[4]\"\"\"\n",
    "d1={}\n",
    "for i not in s.split():\n",
    "    if i in ('a','an','is''the'):\n",
    "        d1[i]=ord(i[0])\n",
    "d1"
   ]
  },
  {
   "cell_type": "markdown",
   "id": "3c13826e-3b8e-4cc9-ab93-5df9b823811a",
   "metadata": {},
   "source": [
    "**Mutable and Immutable concepts**\n",
    "- This concept comes, change the ele using index. but in dictionary there is no index\n",
    "- Dictionary will change the value based on key only\n",
    "- if it change it is mutabel\n",
    "- if it is not change, then its immutable\n",
    "\n",
    "- List and dictionary are mutable\n",
    "- tuple, string are immutable\n",
    "- diff between list and tuple\n"
   ]
  },
  {
   "cell_type": "code",
   "execution_count": 38,
   "id": "28df4a83-543b-4804-85aa-d7496465e819",
   "metadata": {},
   "outputs": [
    {
     "data": {
      "text/plain": [
       "'Mango'"
      ]
     },
     "execution_count": 38,
     "metadata": {},
     "output_type": "execute_result"
    }
   ],
   "source": [
    "d={'fruits':['Mango']}\n",
    "d['fruits'][0]"
   ]
  },
  {
   "cell_type": "code",
   "execution_count": 39,
   "id": "82c22a90-4173-484e-9a6a-0aeb4cf9212b",
   "metadata": {},
   "outputs": [
    {
     "data": {
      "text/plain": [
       "'Kashmir'"
      ]
     },
     "execution_count": 39,
     "metadata": {},
     "output_type": "execute_result"
    }
   ],
   "source": [
    "d={'fruits':[{'Apple':['Kashmir']}]}\n",
    "d['fruits'][0]['Apple'][0]"
   ]
  },
  {
   "cell_type": "code",
   "execution_count": 41,
   "id": "d5fd0887-3808-4176-b016-8773c3ee7ad6",
   "metadata": {},
   "outputs": [],
   "source": [
    "d={'fruits':[{'Apple':{'Kashmir':['India']}}]}"
   ]
  },
  {
   "cell_type": "code",
   "execution_count": 44,
   "id": "0ddc1b8a-8c98-481f-98af-1f136908ae89",
   "metadata": {},
   "outputs": [
    {
     "data": {
      "text/plain": [
       "'India'"
      ]
     },
     "execution_count": 44,
     "metadata": {},
     "output_type": "execute_result"
    }
   ],
   "source": [
    "d['fruits'][0]['Apple']['Kashmir'][0]"
   ]
  },
  {
   "cell_type": "code",
   "execution_count": 49,
   "id": "8ad0f9d5-dd50-40a3-b0c3-a86df0d7cca3",
   "metadata": {},
   "outputs": [],
   "source": [
    "d={'fruites':{'Benganapalli':{'mango':{'nagpur':{'MH':{'Shivaji':{'Shambaji'}}}}}}}"
   ]
  },
  {
   "cell_type": "code",
   "execution_count": 58,
   "id": "81fb567e-f9b1-434d-9f48-fd45df459ef2",
   "metadata": {},
   "outputs": [
    {
     "data": {
      "text/plain": [
       "{'Shambaji'}"
      ]
     },
     "execution_count": 58,
     "metadata": {},
     "output_type": "execute_result"
    }
   ],
   "source": [
    "d['fruites']['Benganapalli']['mango']['nagpur']['MH']['Shivaji']"
   ]
  },
  {
   "cell_type": "code",
   "execution_count": 56,
   "id": "7ed896e7-bd6f-45fe-8699-cb22baf53fc6",
   "metadata": {},
   "outputs": [
    {
     "data": {
      "text/plain": [
       "1"
      ]
     },
     "execution_count": 56,
     "metadata": {},
     "output_type": "execute_result"
    }
   ],
   "source": [
    "d3={'fruits':1}\n",
    "d3['fruits']"
   ]
  },
  {
   "cell_type": "code",
   "execution_count": 1,
   "id": "62f7e472-bb22-4964-ba4b-96ad2a8afa6a",
   "metadata": {},
   "outputs": [
    {
     "data": {
      "text/plain": [
       "['__class__',\n",
       " '__class_getitem__',\n",
       " '__contains__',\n",
       " '__delattr__',\n",
       " '__delitem__',\n",
       " '__dir__',\n",
       " '__doc__',\n",
       " '__eq__',\n",
       " '__format__',\n",
       " '__ge__',\n",
       " '__getattribute__',\n",
       " '__getitem__',\n",
       " '__getstate__',\n",
       " '__gt__',\n",
       " '__hash__',\n",
       " '__init__',\n",
       " '__init_subclass__',\n",
       " '__ior__',\n",
       " '__iter__',\n",
       " '__le__',\n",
       " '__len__',\n",
       " '__lt__',\n",
       " '__ne__',\n",
       " '__new__',\n",
       " '__or__',\n",
       " '__reduce__',\n",
       " '__reduce_ex__',\n",
       " '__repr__',\n",
       " '__reversed__',\n",
       " '__ror__',\n",
       " '__setattr__',\n",
       " '__setitem__',\n",
       " '__sizeof__',\n",
       " '__str__',\n",
       " '__subclasshook__',\n",
       " 'clear',\n",
       " 'copy',\n",
       " 'fromkeys',\n",
       " 'get',\n",
       " 'items',\n",
       " 'keys',\n",
       " 'pop',\n",
       " 'popitem',\n",
       " 'setdefault',\n",
       " 'update',\n",
       " 'values']"
      ]
     },
     "execution_count": 1,
     "metadata": {},
     "output_type": "execute_result"
    }
   ],
   "source": [
    "dir({})"
   ]
  },
  {
   "cell_type": "code",
   "execution_count": 19,
   "id": "c20ef3c7-eba2-4631-9cae-351017189cb9",
   "metadata": {},
   "outputs": [
    {
     "name": "stdout",
     "output_type": "stream",
     "text": [
      "<class 'dict'>\n",
      "{'sathya': 30, 'kalyani': 20}\n",
      "{}\n",
      "{'sathya': 30, 'kalyani': 20}\n",
      "{'A': None, 'B': None, 'C': None}\n",
      "dict_items([('sathya', 30), ('kalyani', 20)])\n",
      "dict_keys(['sathya', 'kalyani'])\n",
      "dict_values([30, 20])\n",
      "(('sathya', 30), ('kalyani', 20))\n",
      "('sathya', 'kalyani')\n",
      "(30, 20)\n"
     ]
    }
   ],
   "source": [
    "\"\"\"'clear',\n",
    " 'copy',\n",
    " 'fromkeys',\n",
    " 'get',\n",
    " 'items',\n",
    " 'keys',\n",
    " 'pop',\n",
    " 'popitem',\n",
    " 'setdefault',\n",
    " 'update',\n",
    " 'values']\"\"\"\n",
    "dict1={\"sathya\":30,\"kalyani\":20}\n",
    "print(type(dict1))\n",
    "print(dict1)\n",
    "dict1.clear()\n",
    "print(dict1)\n",
    "dict2={\"sathya\":30,\"kalyani\":20}\n",
    "dict3=dict2.copy()\n",
    "print(dict3)\n",
    "list=['A','B','C']\n",
    "dict4=dict2.fromkeys(list)\n",
    "print(dict4)\n",
    "print(dict3.items())\n",
    "print(dict3.keys())\n",
    "print(dict3.values())\n",
    "print(tuple(dict3.items()))\n",
    "print(tuple(dict3.keys()))\n",
    "print(tuple(dict3.values()))"
   ]
  },
  {
   "cell_type": "code",
   "execution_count": 18,
   "id": "6b91f5a9-ad95-4852-8a00-80007c6cac7c",
   "metadata": {},
   "outputs": [
    {
     "name": "stdout",
     "output_type": "stream",
     "text": [
      "<class 'dict_items'>\n",
      "<class 'dict_keys'>\n",
      "<class 'dict_values'>\n"
     ]
    }
   ],
   "source": [
    "print(type(dict3.items()))\n",
    "print(type(dict3.keys()))\n",
    "print(type(dict3.values()))"
   ]
  },
  {
   "cell_type": "code",
   "execution_count": 22,
   "id": "cc8b1d37-772f-4604-9a3f-13d81067eb27",
   "metadata": {},
   "outputs": [
    {
     "name": "stdout",
     "output_type": "stream",
     "text": [
      "sathya 30 kalyani 20 "
     ]
    }
   ],
   "source": [
    "for i,j in dict3.items():\n",
    "    print(i,j,end=\" \")"
   ]
  },
  {
   "cell_type": "code",
   "execution_count": 24,
   "id": "88cf6b6a-3f9e-4ac4-8445-f180e39ac487",
   "metadata": {},
   "outputs": [
    {
     "data": {
      "text/plain": [
       "(10, 20)"
      ]
     },
     "execution_count": 24,
     "metadata": {},
     "output_type": "execute_result"
    }
   ],
   "source": [
    "a=10,20\n",
    "a"
   ]
  },
  {
   "cell_type": "code",
   "execution_count": 25,
   "id": "7603f601-2a2a-481c-8847-c93f590a6b03",
   "metadata": {},
   "outputs": [
    {
     "data": {
      "text/plain": [
       "(10, 20)"
      ]
     },
     "execution_count": 25,
     "metadata": {},
     "output_type": "execute_result"
    }
   ],
   "source": [
    "a,b=10,20\n",
    "a,b"
   ]
  },
  {
   "cell_type": "code",
   "execution_count": 26,
   "id": "700d0bfc-3704-488b-8bbb-975e4eee8b4f",
   "metadata": {},
   "outputs": [
    {
     "ename": "TypeError",
     "evalue": "cannot unpack non-iterable int object",
     "output_type": "error",
     "traceback": [
      "\u001b[1;31m---------------------------------------------------------------------------\u001b[0m",
      "\u001b[1;31mTypeError\u001b[0m                                 Traceback (most recent call last)",
      "Cell \u001b[1;32mIn[26], line 1\u001b[0m\n\u001b[1;32m----> 1\u001b[0m a,b\u001b[38;5;241m=\u001b[39m\u001b[38;5;241m10\u001b[39m\n\u001b[0;32m      2\u001b[0m a,b\n",
      "\u001b[1;31mTypeError\u001b[0m: cannot unpack non-iterable int object"
     ]
    }
   ],
   "source": [
    "a,b=10\n",
    "a,b"
   ]
  },
  {
   "cell_type": "code",
   "execution_count": 27,
   "id": "6d66d79d-e1da-4950-b0b8-a20dc95413f1",
   "metadata": {},
   "outputs": [
    {
     "data": {
      "text/plain": [
       "30"
      ]
     },
     "execution_count": 27,
     "metadata": {},
     "output_type": "execute_result"
    }
   ],
   "source": [
    "dict2={\"sathya\":30,\"kalyani\":20}\n",
    "dict2.get('sathya')"
   ]
  },
  {
   "cell_type": "code",
   "execution_count": null,
   "id": "ebd102a8-3751-494a-b56a-5f7476ab36a5",
   "metadata": {},
   "outputs": [],
   "source": [
    "\"\"\"\n",
    " 'pop',\n",
    " 'popitem',\n",
    " 'setdefault',\n",
    " 'update',\n",
    " 'values']\"\"\""
   ]
  }
 ],
 "metadata": {
  "kernelspec": {
   "display_name": "Python 3 (ipykernel)",
   "language": "python",
   "name": "python3"
  },
  "language_info": {
   "codemirror_mode": {
    "name": "ipython",
    "version": 3
   },
   "file_extension": ".py",
   "mimetype": "text/x-python",
   "name": "python",
   "nbconvert_exporter": "python",
   "pygments_lexer": "ipython3",
   "version": "3.11.7"
  }
 },
 "nbformat": 4,
 "nbformat_minor": 5
}
