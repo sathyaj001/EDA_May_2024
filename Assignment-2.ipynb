{
 "cells": [
  {
   "cell_type": "code",
   "execution_count": 21,
   "id": "6b5de427-de74-439e-af51-e43bb7e1dbf5",
   "metadata": {},
   "outputs": [
    {
     "name": "stdout",
     "output_type": "stream",
     "text": [
      "The square of 8 is 64.\n"
     ]
    }
   ],
   "source": [
    "# square of number\n",
    "import random\n",
    "num1=random.randint(1,100)\n",
    "res=num1*num1\n",
    "print(f\"The square of {num1} is {res}.\")"
   ]
  },
  {
   "cell_type": "code",
   "execution_count": 22,
   "id": "cee4104b-6378-4147-b251-8f1b4f710f93",
   "metadata": {},
   "outputs": [
    {
     "name": "stdout",
     "output_type": "stream",
     "text": [
      "67---134---201---268---335\n"
     ]
    }
   ],
   "source": [
    "num1=random.randint(1,100)\n",
    "print(num1,2*num1,3*num1,4*num1,5*num1,sep=\"---\")"
   ]
  },
  {
   "cell_type": "code",
   "execution_count": 23,
   "id": "613e27c4-f5c6-499a-8963-0e33eed5317b",
   "metadata": {},
   "outputs": [
    {
     "name": "stdout",
     "output_type": "stream",
     "text": [
      "your weight in pounds 165.0 for the kgs 75 \n"
     ]
    }
   ],
   "source": [
    "# Kgs to pounds\n",
    "num1=random.randint(1,100)\n",
    "res=num1*2.2\n",
    "print(f\"your weight in pounds {res} for the kgs {num1} \")"
   ]
  },
  {
   "cell_type": "code",
   "execution_count": 24,
   "id": "42e48463-6081-4a1a-8524-42d8048a851f",
   "metadata": {},
   "outputs": [
    {
     "name": "stdout",
     "output_type": "stream",
     "text": [
      "sum of 3 numbers 58 , 136 , 227 = 421\n",
      "avg of 3 numbers 58 , 136 , 227 = 140.33\n"
     ]
    }
   ],
   "source": [
    "# sum and avg calculations by using random and round\n",
    "num1=random.randint(1,100)\n",
    "num2=random.randint(100,200)\n",
    "num3=random.randint(200,300)\n",
    "sum=num1+num2+num3\n",
    "avg=round((num1+num2+num3)/3,2)\n",
    "print(f\"sum of 3 numbers {num1} , {num2} , {num3} = {sum}\")\n",
    "print(f\"avg of 3 numbers {num1} , {num2} , {num3} = {avg}\")"
   ]
  },
  {
   "cell_type": "code",
   "execution_count": 25,
   "id": "318043f4-eecb-409f-a245-3a544d5b0eab",
   "metadata": {},
   "outputs": [
    {
     "name": "stdout",
     "output_type": "stream",
     "text": [
      "total bill amount for the price 244 and tip % 72 is 419.68\n"
     ]
    }
   ],
   "source": [
    "# total meal price by using random and round\n",
    "price=random.randint(200,500)\n",
    "tip_Percentage=random.randint(1,100)\n",
    "tip=round((price/100)*tip_Percentage,2)\n",
    "print(f\"total bill amount for the price {price} and tip % {tip_Percentage} is {price+tip}\")"
   ]
  },
  {
   "cell_type": "code",
   "execution_count": 26,
   "id": "b5682095-9b85-4e17-8e42-166321dac51e",
   "metadata": {},
   "outputs": [
    {
     "name": "stdout",
     "output_type": "stream",
     "text": [
      "sub of 2 numbers 137 , 95 = 42\n",
      "mul of 2 numbers 137 , 95 = 13015\n",
      "div of 2 numbers 137 , 95 = 1.44\n"
     ]
    }
   ],
   "source": [
    "num1=random.randint(100,200)\n",
    "num2=random.randint(1,100)\n",
    "add=num1+num2\n",
    "sub=num1-num2\n",
    "mul=num1*num2\n",
    "div=round(num1/num2,2)\n",
    "print(f\"sub of 2 numbers {num1} , {num2} = {sub}\")\n",
    "print(f\"mul of 2 numbers {num1} , {num2} = {mul}\")\n",
    "print(f\"div of 2 numbers {num1} , {num2} = {div}\")"
   ]
  },
  {
   "cell_type": "code",
   "execution_count": 27,
   "id": "67a7812d-6487-44ec-ad2b-d95cc2fd1f18",
   "metadata": {},
   "outputs": [
    {
     "name": "stdout",
     "output_type": "stream",
     "text": [
      "area of circle is 9801\n"
     ]
    }
   ],
   "source": [
    "# area of circle\n",
    "r=random.randint(1,100)\n",
    "p=random.randint(1,5)\n",
    "res=round(p*r*r,2)\n",
    "print(f\"area of circle is {res}\")"
   ]
  },
  {
   "cell_type": "code",
   "execution_count": 28,
   "id": "b9b0e680-e912-403a-908f-0d147bd705f3",
   "metadata": {},
   "outputs": [
    {
     "name": "stdout",
     "output_type": "stream",
     "text": [
      "bill amount in INR 36080\n"
     ]
    }
   ],
   "source": [
    "num=random.randint(100,500)\n",
    "res=num*80\n",
    "print(f\"bill amount in INR {res}\")"
   ]
  },
  {
   "cell_type": "code",
   "execution_count": 29,
   "id": "f4622c47-2796-41cf-aec4-c2097360bf17",
   "metadata": {},
   "outputs": [
    {
     "name": "stdout",
     "output_type": "stream",
     "text": [
      "Area of traingle 4192.0 for 64,131\n"
     ]
    }
   ],
   "source": [
    "n1=random.randint(1,100)\n",
    "n2=random.randint(100,200)\n",
    "result=(1/2)*n1*n2\n",
    "print(f\"Area of traingle {result} for {n1},{n2}\")"
   ]
  },
  {
   "cell_type": "code",
   "execution_count": 30,
   "id": "8dcc97b0-6212-4c4b-a3c0-6e43d5858f9b",
   "metadata": {},
   "outputs": [
    {
     "name": "stdout",
     "output_type": "stream",
     "text": [
      "Area of rectangle 6710 for length 55 and width 122\n"
     ]
    }
   ],
   "source": [
    "n1=random.randint(1,100)\n",
    "n2=random.randint(100,200)\n",
    "result=n1*n2\n",
    "print(f\"Area of rectangle {result} for length {n1} and width {n2}\")"
   ]
  },
  {
   "cell_type": "code",
   "execution_count": 31,
   "id": "3b8d2bff-45b7-44cd-9695-63e32b3cb978",
   "metadata": {},
   "outputs": [
    {
     "name": "stdout",
     "output_type": "stream",
     "text": [
      "Father: Hey Baby!\n",
      "Daughter: Hello Dady\n",
      "Father: I heard your exams are over, what about result\n",
      "Daughter: Yes dad! Results are out.\n",
      "Father: what is the percentage?\n",
      "Daughter: I will give my subject wise marks , you tell me the percentage\n",
      "Father : Okay!\n",
      "Daughter: Dad Now tell me how much percentage I got\n",
      "Father: Tell me the max marks of each subject\n"
     ]
    },
    {
     "name": "stdin",
     "output_type": "stream",
     "text": [
      "Daughter: 100\n"
     ]
    },
    {
     "name": "stdout",
     "output_type": "stream",
     "text": [
      "total_percentage_marks is :53.4 for the diff subject marks 6 , 101, 54, 90, 16\n"
     ]
    }
   ],
   "source": [
    "import time\n",
    "print(\"Father: Hey Baby!\")\n",
    "time.sleep(2)\n",
    "print(\"Daughter: Hello Dady\")\n",
    "time.sleep(2)\n",
    "print(\"Father: I heard your exams are over, what about result\")\n",
    "time.sleep(2)\n",
    "print(\"Daughter: Yes dad! Results are out.\")\n",
    "time.sleep(2)\n",
    "print(\"Father: what is the percentage?\")\n",
    "time.sleep(2)\n",
    "print(\"Daughter: I will give my subject wise marks , you tell me the percentage\")\n",
    "time.sleep(2)\n",
    "print(\"Father : Okay!\")\n",
    "sub1=random.randint(1,101)\n",
    "sub2=random.randint(1,101)\n",
    "sub3=random.randint(1,101)\n",
    "sub4=random.randint(1,101)\n",
    "sub5=random.randint(1,101)\n",
    "time.sleep(2)\n",
    "print(\"Daughter: Dad Now tell me how much percentage I got\")\n",
    "time.sleep(2)\n",
    "print(\"Father: Tell me the max marks of each subject\")\n",
    "time.sleep(2)\n",
    "max_marks=eval(input(\"Daughter:\"))\n",
    "total_per_marks=round(((sub1+sub2+sub3+sub4+sub5)/(5*max_marks))*100,2)\n",
    "print(f\"total_percentage_marks is :{total_per_marks} for the diff subject marks {sub1} , {sub2}, {sub3}, {sub4}, {sub5}\")"
   ]
  },
  {
   "cell_type": "code",
   "execution_count": null,
   "id": "b339bd62-9b23-492c-b643-244c3041e6bd",
   "metadata": {},
   "outputs": [],
   "source": []
  }
 ],
 "metadata": {
  "kernelspec": {
   "display_name": "Python 3 (ipykernel)",
   "language": "python",
   "name": "python3"
  },
  "language_info": {
   "codemirror_mode": {
    "name": "ipython",
    "version": 3
   },
   "file_extension": ".py",
   "mimetype": "text/x-python",
   "name": "python",
   "nbconvert_exporter": "python",
   "pygments_lexer": "ipython3",
   "version": "3.11.7"
  }
 },
 "nbformat": 4,
 "nbformat_minor": 5
}
